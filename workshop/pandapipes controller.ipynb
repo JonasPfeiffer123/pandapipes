{
 "cells": [
  {
   "cell_type": "markdown",
   "id": "e7636c31",
   "metadata": {},
   "source": [
    "# Couple Two Nets"
   ]
  },
  {
   "cell_type": "markdown",
   "id": "8d107544",
   "metadata": {},
   "source": [
    "Now we want to couple a power and gas net. So far, it is not possible, to couple also a heat net. But this will be implemented in the course of senergy nets project."
   ]
  },
  {
   "cell_type": "code",
   "execution_count": null,
   "id": "ea813fee",
   "metadata": {},
   "outputs": [],
   "source": [
    "from pandapipes.multinet.create_multinet import create_empty_multinet, add_net_to_multinet\n",
    "import pandapower as pp\n",
    "import pandapipes as pps\n",
    "from pandapipes.multinet.control.controller.multinet_control import P2GControlMultiEnergy\n",
    "from pandapipes.multinet.control.run_control_multinet import run_control\n",
    "\n",
    "mn = create_empty_multinet('coupled_nets')\n",
    "enet = pp.from_json('./pp/net.json')\n",
    "gnet = pps.from_json('./pps/net.json')\n",
    "add_net_to_multinet(mn, enet, 'power')\n",
    "add_net_to_multinet(mn, gnet, 'gas')\n",
    "\n",
    "\n",
    "p2g_bus = 30\n",
    "p2g_junction = 30\n",
    "\n",
    "p2g_load = pp.create_load(enet, bus=p2g_bus, p_mw=0.2, name='P2G unit')\n",
    "p2g_source = pps.create_source(gnet, junction=p2g_junction, mdot_kg_per_s = 0.001, name='P2G unit')\n",
    "\n",
    "P2GControlMultiEnergy(mn, p2g_load, p2g_source, efficiency=0.7, name_power_net='power', name_gas_net='gas')\n",
    "\n",
    "pp.runpp(enet)\n",
    "pps.pipeflow(gnet, iter=20)"
   ]
  },
  {
   "cell_type": "code",
   "execution_count": null,
   "id": "e09d7776",
   "metadata": {},
   "outputs": [],
   "source": [
    "enet.res_load"
   ]
  },
  {
   "cell_type": "code",
   "execution_count": null,
   "id": "9540e6a2",
   "metadata": {},
   "outputs": [],
   "source": [
    "gnet.res_source"
   ]
  },
  {
   "cell_type": "code",
   "execution_count": null,
   "id": "2a343a51",
   "metadata": {},
   "outputs": [],
   "source": [
    "run_control(mn, iter=20)"
   ]
  },
  {
   "cell_type": "code",
   "execution_count": null,
   "id": "02e9a04e",
   "metadata": {},
   "outputs": [],
   "source": [
    "enet.res_load"
   ]
  },
  {
   "cell_type": "code",
   "execution_count": null,
   "id": "d5c11473",
   "metadata": {},
   "outputs": [],
   "source": [
    "gnet.res_source"
   ]
  },
  {
   "cell_type": "markdown",
   "id": "4d4e0459",
   "metadata": {},
   "source": [
    "# Plot Coupled Nets"
   ]
  },
  {
   "cell_type": "markdown",
   "id": "c416b449",
   "metadata": {},
   "source": [
    "Now, we plot the coupled grids:"
   ]
  },
  {
   "cell_type": "code",
   "execution_count": null,
   "id": "89e76b9e",
   "metadata": {},
   "outputs": [],
   "source": [
    "from pps.plotting import create_gas_net_collections2\n",
    "from pp.plotting import create_power_net_collections\n",
    "from controller import create_annotations\n",
    "import matplotlib.pyplot as plt\n",
    "\n",
    "import pandapower.plotting as plot\n",
    "\n",
    "pps_coll = create_gas_net_collections2(gnet)\n",
    "pp_coll = create_power_net_collections(enet)\n",
    "ann = create_annotations(enet, gnet)\n",
    "plot.draw_collections([pps_coll, pp_coll, ann])"
   ]
  },
  {
   "cell_type": "code",
   "execution_count": null,
   "id": "86d1ffb3",
   "metadata": {},
   "outputs": [],
   "source": [
    "gnet.junction_geodata.x -= 1000\n",
    "\n",
    "pps_coll = create_gas_net_collections2(gnet)\n",
    "pp_coll = create_power_net_collections(enet)\n",
    "ann = create_annotations(enet, gnet)\n",
    "plot.draw_collections([pps_coll, pp_coll, ann])\n",
    "plt.show()"
   ]
  }
 ],
 "metadata": {
  "kernelspec": {
   "display_name": "Python 3 (ipykernel)",
   "language": "python",
   "name": "python3"
  },
  "language_info": {
   "codemirror_mode": {
    "name": "ipython",
    "version": 3
   },
   "file_extension": ".py",
   "mimetype": "text/x-python",
   "name": "python",
   "nbconvert_exporter": "python",
   "pygments_lexer": "ipython3",
   "version": "3.11.0"
  }
 },
 "nbformat": 4,
 "nbformat_minor": 5
}
