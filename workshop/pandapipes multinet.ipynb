{
 "cells": [
  {
   "cell_type": "markdown",
   "id": "59d6ca74",
   "metadata": {},
   "source": [
    "# Time Series Simulation Power Net"
   ]
  },
  {
   "cell_type": "markdown",
   "id": "12e321cb",
   "metadata": {},
   "source": [
    "We start with the time series simulation of a power net:"
   ]
  },
  {
   "cell_type": "code",
   "execution_count": null,
   "id": "6166b187",
   "metadata": {},
   "outputs": [],
   "source": [
    "import numpy as np\n",
    "import pandas as pd\n",
    "\n",
    "data_pv = pd.read_excel(r'net_data_power/time_series.xlsx', sheet_name='pv_solar', index_col = 'time')\n",
    "data_ho = pd.read_excel(r'net_data_power/time_series.xlsx', sheet_name='households', index_col = 'time')"
   ]
  },
  {
   "cell_type": "code",
   "execution_count": null,
   "id": "67653f0b",
   "metadata": {},
   "outputs": [],
   "source": [
    "data_pv"
   ]
  },
  {
   "cell_type": "code",
   "execution_count": null,
   "id": "42aac998",
   "metadata": {},
   "outputs": [],
   "source": [
    "data_ho"
   ]
  },
  {
   "cell_type": "code",
   "execution_count": null,
   "id": "e044c909",
   "metadata": {},
   "outputs": [],
   "source": [
    "data_ho = data_ho.loc[data_pv.index]"
   ]
  },
  {
   "cell_type": "code",
   "execution_count": null,
   "id": "12e68011",
   "metadata": {},
   "outputs": [],
   "source": [
    "import pandapower as pp\n",
    "net = pp.from_json(r'pp/net.json')"
   ]
  },
  {
   "cell_type": "code",
   "execution_count": null,
   "id": "203d60c4",
   "metadata": {},
   "outputs": [],
   "source": [
    "profs_name_ho = np.random.choice(['A', 'B', 'C'], len(net.load.index))\n",
    "profs_name_pv = np.random.choice(['pv_south_nom', 'pv_southwest_nom'], len(net.sgen.index))"
   ]
  },
  {
   "cell_type": "code",
   "execution_count": null,
   "id": "c2adc7ca",
   "metadata": {},
   "outputs": [],
   "source": [
    "profs_name_ho"
   ]
  },
  {
   "cell_type": "code",
   "execution_count": null,
   "id": "5d693a6a",
   "metadata": {},
   "outputs": [],
   "source": [
    "profs_name_pv"
   ]
  },
  {
   "cell_type": "code",
   "execution_count": null,
   "id": "5b984c0f",
   "metadata": {},
   "outputs": [],
   "source": [
    "profs_name_ho_p = ['H0-%s_pload' %ho for ho in profs_name_ho]\n",
    "profs_name_ho_q = ['H0-%s_qload' %ho for ho in profs_name_ho] "
   ]
  },
  {
   "cell_type": "code",
   "execution_count": null,
   "id": "36b580cc",
   "metadata": {},
   "outputs": [],
   "source": [
    "datasource_ho_p = data_ho.loc[:, data_ho.columns.str.contains('pload')] * 0.06\n",
    "datasource_ho_q = data_ho.loc[:, data_ho.columns.str.contains('qload')] * 0.02\n",
    "datasource_pv = data_pv * 0.03"
   ]
  },
  {
   "cell_type": "code",
   "execution_count": null,
   "id": "4a13f403",
   "metadata": {},
   "outputs": [],
   "source": [
    "from pandapower.control import ConstControl\n",
    "from pandapower.timeseries import DFData\n",
    "\n",
    "ConstControl(net, 'load', 'p_mw', net.load.index, profs_name_ho_p, DFData(datasource_ho_p))\n",
    "ConstControl(net, 'load', 'q_mvar', net.load.index, profs_name_ho_q, DFData(datasource_ho_q))\n",
    "ConstControl(net, 'sgen', 'p_mw', net.sgen.index, profs_name_pv, DFData(datasource_pv))"
   ]
  },
  {
   "cell_type": "code",
   "execution_count": null,
   "id": "3996ba2d",
   "metadata": {},
   "outputs": [],
   "source": [
    "net.controller"
   ]
  },
  {
   "cell_type": "code",
   "execution_count": null,
   "id": "cdff62df",
   "metadata": {},
   "outputs": [],
   "source": [
    "from pandapower.timeseries import OutputWriter\n",
    "log_variables = [('res_bus', 'vm_pu'), ('res_line', 'loading_percent'), ('res_trafo', 'loading_percent')]\n",
    "OutputWriter(net, data_pv.index, 'net_data_power/results', log_variables=log_variables)"
   ]
  },
  {
   "cell_type": "code",
   "execution_count": null,
   "id": "a61e9528",
   "metadata": {},
   "outputs": [],
   "source": [
    "from pandapower.timeseries.run_time_series import run_timeseries\n",
    "run_timeseries(net, data_pv.index)"
   ]
  },
  {
   "cell_type": "markdown",
   "id": "8d74a19b",
   "metadata": {},
   "source": [
    "# Time Series Simulation Pipe Net"
   ]
  },
  {
   "cell_type": "code",
   "execution_count": null,
   "id": "04d1929b",
   "metadata": {},
   "outputs": [],
   "source": [
    "data_el = pd.DataFrame(np.random.random(168), columns=['electrolyzer'], index=data_pv.index) * 0.001"
   ]
  },
  {
   "cell_type": "code",
   "execution_count": null,
   "id": "69fc8f51",
   "metadata": {},
   "outputs": [],
   "source": [
    "import pandapipes as pps\n",
    "mn = pps.from_json(r'multinet.json')"
   ]
  },
  {
   "cell_type": "code",
   "execution_count": null,
   "id": "087d9389",
   "metadata": {},
   "outputs": [],
   "source": [
    "gnet = mn.nets['gas']"
   ]
  },
  {
   "cell_type": "code",
   "execution_count": null,
   "id": "99c389c3",
   "metadata": {},
   "outputs": [],
   "source": [
    "gnet.source"
   ]
  },
  {
   "cell_type": "code",
   "execution_count": null,
   "id": "fcf2a69a",
   "metadata": {},
   "outputs": [],
   "source": [
    "ConstControl(gnet, 'source', 'mdot_kg_per_s', 3, ['electrolyzer'], DFData(data_el))"
   ]
  },
  {
   "cell_type": "code",
   "execution_count": null,
   "id": "cd6578be",
   "metadata": {},
   "outputs": [],
   "source": [
    "log_variables = [('res_pipe', 'v_mean_m_per_s'), ('res_junction', 'p_bar'), ('res_junction', 't_k')]\n",
    "OutputWriter(gnet, data_pv.index, 'net_data_pipe/results', log_variables=log_variables)"
   ]
  },
  {
   "cell_type": "code",
   "execution_count": null,
   "id": "ead3ceae",
   "metadata": {},
   "outputs": [],
   "source": [
    "from pandapipes.timeseries.run_time_series import run_timeseries"
   ]
  },
  {
   "cell_type": "code",
   "execution_count": null,
   "id": "62b305fc",
   "metadata": {},
   "outputs": [],
   "source": [
    "run_timeseries(gnet, data_pv.index, iter=20)"
   ]
  },
  {
   "cell_type": "markdown",
   "id": "4263edaa",
   "metadata": {},
   "source": [
    "# Time Series Simulation Multinet"
   ]
  },
  {
   "cell_type": "code",
   "execution_count": null,
   "id": "7dd878cd",
   "metadata": {},
   "outputs": [],
   "source": [
    "data_p2g = pd.DataFrame(np.random.random(168) * 0.2, columns=['P2G'], index=data_pv.index)\n",
    "mn = pps.from_json(r'multinet.json')\n",
    "enet = mn['nets']['power']\n",
    "gnet = mn['nets']['gas']\n",
    "enet.load"
   ]
  },
  {
   "cell_type": "code",
   "execution_count": null,
   "id": "5bb4c187",
   "metadata": {},
   "outputs": [],
   "source": [
    "ConstControl(enet, 'load', 'p_mw', 8, ['P2G'], DFData(data_p2g))"
   ]
  },
  {
   "cell_type": "code",
   "execution_count": null,
   "id": "c8524bfe",
   "metadata": {},
   "outputs": [],
   "source": [
    "log_variables = [('res_pipe', 'v_mean_m_per_s'), ('res_junction', 'p_bar'), ('res_junction', 't_k')]\n",
    "OutputWriter(gnet, data_pv.index, 'results', log_variables=log_variables)\n",
    "log_variables = [('res_bus', 'vm_pu'), ('res_line', 'loading_percent'), ('res_trafo', 'loading_percent')]\n",
    "OutputWriter(enet, data_pv.index, 'results', log_variables=log_variables)"
   ]
  },
  {
   "cell_type": "code",
   "execution_count": null,
   "id": "8be32aef",
   "metadata": {},
   "outputs": [],
   "source": [
    "from pandapipes.multinet.timeseries.run_time_series_multinet import run_timeseries\n",
    "run_timeseries(mn, data_pv.index, iter=20)"
   ]
  }
 ],
 "metadata": {
  "kernelspec": {
   "display_name": "Python 3 (ipykernel)",
   "language": "python",
   "name": "python3"
  },
  "language_info": {
   "codemirror_mode": {
    "name": "ipython",
    "version": 3
   },
   "file_extension": ".py",
   "mimetype": "text/x-python",
   "name": "python",
   "nbconvert_exporter": "python",
   "pygments_lexer": "ipython3",
   "version": "3.11.0"
  }
 },
 "nbformat": 4,
 "nbformat_minor": 5
}
