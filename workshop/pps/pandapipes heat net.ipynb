{
 "cells": [
  {
   "cell_type": "markdown",
   "id": "b0b86103",
   "metadata": {},
   "source": [
    "# Basic pipe net"
   ]
  },
  {
   "cell_type": "markdown",
   "id": "57d40850",
   "metadata": {},
   "source": [
    "We start with the basic pipe net again:"
   ]
  },
  {
   "cell_type": "code",
   "execution_count": null,
   "id": "ffe52f2d",
   "metadata": {},
   "outputs": [],
   "source": [
    "from os.path import join\n",
    "import pandas as pd\n",
    "import numpy as np\n",
    "import pandapipes as pps\n",
    "\n",
    "import seaborn as sb\n",
    "import pandapipes.plotting as plot\n",
    "import matplotlib.pyplot as plt\n",
    "\n",
    "from pandapower.plotting import create_annotation_collection\n",
    "\n",
    "input_dir = r'../net_data_pipe/'\n",
    "in_junctions = pd.read_csv(join(input_dir, 'example_net-junctions.CSV'))\n",
    "in_pipes = pd.read_csv(join(input_dir, 'example_net-pipes.CSV'))\n",
    "\n",
    "fluid = 'hgas' # 'lgas', 'hydrogen', 'water'\n",
    "\n",
    "net = pps.create_empty_network(fluid=fluid)\n",
    "\n",
    "geodata = in_junctions[['lon', 'lat']].values\n",
    "\n",
    "pps.create_junctions(net, nr_junctions=31, pn_bar=1, tfluid_k=283.15, height_m=in_junctions['height'], geodata=geodata)\n",
    "pps.create_pipes_from_parameters(net, in_pipes['from_junction'], in_pipes['to_junction'], length_km=in_pipes['length_km'],\n",
    "                                 diameter_m = 0.05, k_mm = 0.2)\n",
    "\n",
    "colors = sb.color_palette('colorblind')\n",
    "\n",
    "jc = plot.create_junction_collection(net, color=colors[0])\n",
    "pc = plot.create_pipe_collection(net, color=colors[1])\n",
    "coords = net.junction_geodata[['x','y']].values\n",
    "jic = create_annotation_collection(size=20, texts = np.char.mod('%.0f', net.junction.index), \n",
    "                                    coords=coords, zorder=150, color='k')\n",
    "\n",
    "collections = [jc, pc, jic]\n",
    "\n",
    "plot.draw_collections(collections)\n",
    "plt.show()\n"
   ]
  },
  {
   "cell_type": "markdown",
   "id": "f868dc49",
   "metadata": {},
   "source": [
    "# Heat net"
   ]
  },
  {
   "cell_type": "markdown",
   "id": "90fcc6c4",
   "metadata": {},
   "source": [
    "Here we add the relevant heat components:"
   ]
  },
  {
   "cell_type": "code",
   "execution_count": null,
   "id": "990ce4da",
   "metadata": {},
   "outputs": [],
   "source": [
    "input_dir = r'../net_data_pipe'\n",
    "in_ijs = pd.read_csv(join(input_dir, 'example_net-intermediate_junctions.CSV'))"
   ]
  },
  {
   "cell_type": "code",
   "execution_count": null,
   "id": "688c6e48",
   "metadata": {},
   "outputs": [],
   "source": [
    "pps.create_fluid_from_lib(net, 'water')"
   ]
  },
  {
   "cell_type": "code",
   "execution_count": null,
   "id": "3a810e48",
   "metadata": {},
   "outputs": [],
   "source": [
    "pps.create_circ_pump_const_pressure(net, 4,9, 7, 3, t_flow_k=335)\n",
    "pps.create_circ_pump_const_mass_flow(net, 22, 28, 10, 1, t_flow_k=330)"
   ]
  },
  {
   "cell_type": "code",
   "execution_count": null,
   "id": "9c328fcf",
   "metadata": {},
   "outputs": [],
   "source": [
    "js = pps.create_junctions(net, 6, 1, 283.15, geodata=in_ijs[['lon', 'lat']].values)"
   ]
  },
  {
   "cell_type": "code",
   "execution_count": null,
   "id": "097f29f5",
   "metadata": {},
   "outputs": [],
   "source": [
    "pps.create_flow_controls(net, [5, 11, 14, 18, 23, 30], js, 0.5, 0.05)\n",
    "pps.create_heat_exchangers(net, js, [6, 13, 19, 29, 24, 27], 0.1, 2000)"
   ]
  },
  {
   "cell_type": "code",
   "execution_count": null,
   "id": "3796bc96",
   "metadata": {},
   "outputs": [],
   "source": [
    "pps.pipeflow(net)"
   ]
  },
  {
   "cell_type": "code",
   "execution_count": null,
   "id": "94ea5769",
   "metadata": {},
   "outputs": [],
   "source": [
    "net.res_junction.t_k"
   ]
  },
  {
   "cell_type": "code",
   "execution_count": null,
   "id": "5334410d",
   "metadata": {},
   "outputs": [],
   "source": [
    "pps.pipeflow(net, mode='all')"
   ]
  },
  {
   "cell_type": "code",
   "execution_count": null,
   "id": "7dc31479",
   "metadata": {},
   "outputs": [],
   "source": [
    "net.res_junction.t_k"
   ]
  },
  {
   "cell_type": "code",
   "execution_count": null,
   "id": "1b0066bc",
   "metadata": {},
   "outputs": [],
   "source": [
    "net.res_circ_pump_mass"
   ]
  },
  {
   "cell_type": "code",
   "execution_count": null,
   "id": "a7a9eed7",
   "metadata": {},
   "outputs": [],
   "source": [
    "net.res_flow_control"
   ]
  },
  {
   "cell_type": "code",
   "execution_count": null,
   "id": "402dc167",
   "metadata": {},
   "outputs": [],
   "source": [
    "net.res_heat_exchanger"
   ]
  },
  {
   "cell_type": "code",
   "execution_count": null,
   "id": "9aac0527",
   "metadata": {},
   "outputs": [],
   "source": [
    "net.res_junction.p_bar.min()"
   ]
  },
  {
   "cell_type": "code",
   "execution_count": null,
   "id": "41e42529",
   "metadata": {},
   "outputs": [],
   "source": [
    "net.res_pipe.v_mean_m_per_s.abs().min()"
   ]
  },
  {
   "cell_type": "code",
   "execution_count": null,
   "id": "79d8a4b3",
   "metadata": {},
   "outputs": [],
   "source": [
    "net.res_pipe.v_mean_m_per_s.abs().max()"
   ]
  },
  {
   "cell_type": "markdown",
   "id": "4906ffc4",
   "metadata": {},
   "source": [
    "# Plot Heat Net Components"
   ]
  },
  {
   "cell_type": "markdown",
   "id": "a41e7349",
   "metadata": {},
   "source": [
    "... and finally plot the relevant results."
   ]
  },
  {
   "cell_type": "code",
   "execution_count": null,
   "id": "58141bbd",
   "metadata": {},
   "outputs": [],
   "source": [
    "fc = plot.create_flow_control_collection(net, size=20, color='grey')\n",
    "cpp = plot.create_pump_collection(net, table_name='circ_pump_pressure', color='grey', size=20, \n",
    "                                 fj_col='return_junction', tj_col='flow_junction')\n",
    "cpm = plot.create_pump_collection(net, table_name='circ_pump_mass', color='grey', size=20, \n",
    "                                  fj_col='return_junction', tj_col='flow_junction')\n",
    "hc = plot.create_heat_exchanger_collection(net, color='grey', size=20)\n",
    "\n",
    "collections += [fc, cpp, cpm, hc]\n",
    "\n",
    "plot.draw_collections(collections)\n",
    "plt.show()"
   ]
  },
  {
   "cell_type": "markdown",
   "id": "a2ce78f4",
   "metadata": {},
   "source": [
    "# Plot Heat Results"
   ]
  },
  {
   "cell_type": "code",
   "execution_count": null,
   "id": "c048bfef",
   "metadata": {},
   "outputs": [],
   "source": [
    "from pandapower.plotting import cmap_continuous\n",
    "\n",
    "cmap_list_v = [(0.0, \"green\"), (1.25, \"yellow\"), (2.5, \"red\")]\n",
    "cmap_v, norm_v = cmap_continuous(cmap_list_v)"
   ]
  },
  {
   "cell_type": "code",
   "execution_count": null,
   "id": "2ccf8174",
   "metadata": {},
   "outputs": [],
   "source": [
    "vc = plot.create_pipe_collection(net, linewidths=1, cmap=cmap_v, norm=norm_v, \n",
    "                                 z=net.res_pipe.v_mean_m_per_s.abs(),\n",
    "                                 cbar_title=\"mean water velocity [m/s]\")"
   ]
  },
  {
   "cell_type": "code",
   "execution_count": null,
   "id": "eb56da5f",
   "metadata": {},
   "outputs": [],
   "source": [
    "collections += [vc]"
   ]
  },
  {
   "cell_type": "code",
   "execution_count": null,
   "id": "0a9366f5",
   "metadata": {},
   "outputs": [],
   "source": [
    "plot.draw_collections(collections)\n",
    "plt.show()"
   ]
  },
  {
   "cell_type": "code",
   "execution_count": null,
   "id": "960a2c45",
   "metadata": {},
   "outputs": [],
   "source": [
    "max_p = net.res_junction.p_bar.max()\n",
    "cmap_list_p = [(4, 'red'), (max_p/2, 'yellow'), (max_p, 'green')]\n",
    "cmap_p, norm_p = cmap_continuous(cmap_list_p)\n",
    "jc = plot.create_junction_collection(net, size=20, cmap=cmap_p, norm=norm_p, \n",
    "                                     z=net.res_junction.p_bar, cbar_title=\"junction pressure [bar]\")\n",
    "collections += [jc]\n",
    "plot.draw_collections(collections)\n",
    "plt.show()"
   ]
  },
  {
   "cell_type": "code",
   "execution_count": null,
   "id": "922fbdcf",
   "metadata": {},
   "outputs": [],
   "source": [
    "cmap_list_t = [(300, 'blue'), (320, 'yellow'), (340, 'green')]\n",
    "cmap_t, norm_t = cmap_continuous(cmap_list_t)\n",
    "tc = plot.create_junction_collection(net, size=20, cmap=cmap_t, norm=norm_t, \n",
    "                                     z=net.res_junction.t_k, cbar_title=\"junction temperature [t_k]\", alpha=0.2)\n",
    "collections = collections[:-1]\n",
    "collections += [tc]\n",
    "plot.draw_collections(collections)\n",
    "plt.show()"
   ]
  }
 ],
 "metadata": {
  "kernelspec": {
   "display_name": "Python 3 (ipykernel)",
   "language": "python",
   "name": "python3"
  },
  "language_info": {
   "codemirror_mode": {
    "name": "ipython",
    "version": 3
   },
   "file_extension": ".py",
   "mimetype": "text/x-python",
   "name": "python",
   "nbconvert_exporter": "python",
   "pygments_lexer": "ipython3",
   "version": "3.11.0"
  }
 },
 "nbformat": 4,
 "nbformat_minor": 5
}
