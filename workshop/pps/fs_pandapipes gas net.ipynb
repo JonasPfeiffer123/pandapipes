{
 "cells": [
  {
   "cell_type": "markdown",
   "id": "9d40fa33",
   "metadata": {},
   "source": [
    "# Basic Pipe Net\n"
   ]
  },
  {
   "cell_type": "markdown",
   "id": "8e58c68b",
   "metadata": {},
   "source": [
    "We start with the fundamentals of any pipe net: **junctions**, **pipes** and the corresponding **fluid**"
   ]
  },
  {
   "cell_type": "code",
   "execution_count": null,
   "id": "9a7413d2",
   "metadata": {},
   "outputs": [],
   "source": [
    "from os.path import join\n",
    "import pandas as pd\n",
    "import pandapipes as pps\n",
    "\n",
    "input_dir = r'../net_data_pipe/'\n",
    "in_junctions = pd.read_csv(join(input_dir, 'example_net-junctions.CSV'))\n",
    "in_pipes = pd.read_csv(join(input_dir, 'example_net-pipes.CSV'))\n"
   ]
  },
  {
   "cell_type": "code",
   "execution_count": null,
   "id": "f4b49a1a",
   "metadata": {},
   "outputs": [],
   "source": []
  },
  {
   "cell_type": "markdown",
   "id": "f318ac78",
   "metadata": {},
   "source": [
    "# Basic Plotting Functions"
   ]
  },
  {
   "cell_type": "markdown",
   "id": "5c48445c",
   "metadata": {},
   "source": [
    "Two ways to plot a pandapipes net:"
   ]
  },
  {
   "cell_type": "code",
   "execution_count": null,
   "id": "50358c91",
   "metadata": {},
   "outputs": [],
   "source": [
    "from pandapipes.plotting import simple_plot\n"
   ]
  },
  {
   "cell_type": "code",
   "execution_count": null,
   "id": "3a2e1467",
   "metadata": {},
   "outputs": [],
   "source": [
    "import seaborn as sb\n",
    "import pandapipes.plotting as plot\n",
    "import matplotlib.pyplot as plt\n"
   ]
  },
  {
   "cell_type": "code",
   "execution_count": null,
   "id": "c9d72d08",
   "metadata": {},
   "outputs": [],
   "source": [
    "import numpy as np\n",
    "from pandapower.plotting import create_annotation_collection\n"
   ]
  },
  {
   "cell_type": "markdown",
   "id": "63c905f6",
   "metadata": {},
   "source": [
    "# Gas Net"
   ]
  },
  {
   "cell_type": "markdown",
   "id": "366d4b4b",
   "metadata": {},
   "source": [
    "Adding **sinks**, **sources** and **ext_grids** to the basic net to perform a pipeflow:"
   ]
  },
  {
   "cell_type": "code",
   "execution_count": null,
   "id": "548c08ff",
   "metadata": {},
   "outputs": [],
   "source": [
    "in_sinks = pd.read_csv(join(input_dir, 'example_net-sinks.CSV'))\n",
    "in_sources = pd.read_csv(join(input_dir, 'example_net-sources.CSV'))\n"
   ]
  },
  {
   "cell_type": "code",
   "execution_count": null,
   "id": "cd8ea8da",
   "metadata": {},
   "outputs": [],
   "source": []
  },
  {
   "cell_type": "code",
   "execution_count": null,
   "id": "ad870536",
   "metadata": {},
   "outputs": [],
   "source": []
  },
  {
   "cell_type": "code",
   "execution_count": null,
   "id": "bb319483",
   "metadata": {},
   "outputs": [],
   "source": []
  },
  {
   "cell_type": "code",
   "execution_count": null,
   "id": "5164e683",
   "metadata": {},
   "outputs": [],
   "source": []
  },
  {
   "cell_type": "code",
   "execution_count": null,
   "id": "d331b6ab",
   "metadata": {},
   "outputs": [],
   "source": []
  },
  {
   "cell_type": "code",
   "execution_count": null,
   "id": "3882aa01",
   "metadata": {},
   "outputs": [],
   "source": []
  },
  {
   "cell_type": "code",
   "execution_count": null,
   "id": "6a3ed397",
   "metadata": {},
   "outputs": [],
   "source": []
  },
  {
   "cell_type": "markdown",
   "id": "0b10d322",
   "metadata": {},
   "source": [
    "# Plot Gas Net"
   ]
  },
  {
   "cell_type": "markdown",
   "id": "9641cacf",
   "metadata": {},
   "source": [
    "Plotting the new components:"
   ]
  },
  {
   "cell_type": "code",
   "execution_count": null,
   "id": "46fd37b7",
   "metadata": {},
   "outputs": [],
   "source": []
  },
  {
   "cell_type": "markdown",
   "id": "28ac0149",
   "metadata": {},
   "source": [
    "# Further Components"
   ]
  },
  {
   "cell_type": "markdown",
   "id": "0ab0e1f0",
   "metadata": {},
   "source": [
    "To complete the pandapipes component list for gas nets, we also add **valves**, a **pressure_controller** and a **pump**:"
   ]
  },
  {
   "cell_type": "code",
   "execution_count": null,
   "id": "8bbdc34c",
   "metadata": {},
   "outputs": [],
   "source": []
  },
  {
   "cell_type": "code",
   "execution_count": null,
   "id": "cf3454ed",
   "metadata": {},
   "outputs": [],
   "source": []
  },
  {
   "cell_type": "code",
   "execution_count": null,
   "id": "d4cd40fe",
   "metadata": {},
   "outputs": [],
   "source": []
  },
  {
   "cell_type": "code",
   "execution_count": null,
   "id": "49f5e7bf",
   "metadata": {},
   "outputs": [],
   "source": []
  },
  {
   "cell_type": "code",
   "execution_count": null,
   "id": "2f88d055",
   "metadata": {},
   "outputs": [],
   "source": []
  },
  {
   "cell_type": "code",
   "execution_count": null,
   "id": "15653628",
   "metadata": {},
   "outputs": [],
   "source": []
  },
  {
   "cell_type": "code",
   "execution_count": null,
   "id": "d1e691b6",
   "metadata": {},
   "outputs": [],
   "source": []
  },
  {
   "cell_type": "code",
   "execution_count": null,
   "id": "40da324c",
   "metadata": {},
   "outputs": [],
   "source": []
  },
  {
   "cell_type": "code",
   "execution_count": null,
   "id": "6e72e7f4",
   "metadata": {},
   "outputs": [],
   "source": []
  },
  {
   "cell_type": "code",
   "execution_count": null,
   "id": "0e3db70b",
   "metadata": {},
   "outputs": [],
   "source": []
  },
  {
   "cell_type": "code",
   "execution_count": null,
   "id": "8781c60f",
   "metadata": {},
   "outputs": [],
   "source": []
  },
  {
   "cell_type": "code",
   "execution_count": null,
   "id": "ee51df12",
   "metadata": {},
   "outputs": [],
   "source": []
  },
  {
   "cell_type": "code",
   "execution_count": null,
   "id": "a3ed9cdb",
   "metadata": {},
   "outputs": [],
   "source": []
  },
  {
   "cell_type": "code",
   "execution_count": null,
   "id": "85f78bb2",
   "metadata": {},
   "outputs": [],
   "source": []
  },
  {
   "cell_type": "markdown",
   "id": "661fbb4d",
   "metadata": {},
   "source": [
    "# Plotting Further Components"
   ]
  },
  {
   "cell_type": "markdown",
   "id": "1a8df1ea",
   "metadata": {},
   "source": [
    "Plotting the final gas net:"
   ]
  },
  {
   "cell_type": "code",
   "execution_count": null,
   "id": "3fbddf2e",
   "metadata": {},
   "outputs": [],
   "source": []
  },
  {
   "cell_type": "code",
   "execution_count": null,
   "id": "70f7b9a3",
   "metadata": {},
   "outputs": [],
   "source": []
  }
 ],
 "metadata": {
  "kernelspec": {
   "display_name": "Python 3 (ipykernel)",
   "language": "python",
   "name": "python3"
  },
  "language_info": {
   "codemirror_mode": {
    "name": "ipython",
    "version": 3
   },
   "file_extension": ".py",
   "mimetype": "text/x-python",
   "name": "python",
   "nbconvert_exporter": "python",
   "pygments_lexer": "ipython3",
   "version": "3.11.0"
  }
 },
 "nbformat": 4,
 "nbformat_minor": 5
}
