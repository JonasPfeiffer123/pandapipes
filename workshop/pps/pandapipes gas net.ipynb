{
 "cells": [
  {
   "cell_type": "markdown",
   "id": "9d40fa33",
   "metadata": {},
   "source": [
    "# Basic Pipe Net\n"
   ]
  },
  {
   "cell_type": "markdown",
   "id": "8e58c68b",
   "metadata": {},
   "source": [
    "We start with the fundamentals of any pipe net: **junctions**, **pipes** and the corresponding **fluid**"
   ]
  },
  {
   "cell_type": "code",
   "execution_count": null,
   "id": "9a7413d2",
   "metadata": {},
   "outputs": [],
   "source": [
    "from os.path import join\n",
    "import pandas as pd\n",
    "import pandapipes as pps\n",
    "\n",
    "input_dir = r'../net_data_pipe/'\n",
    "in_junctions = pd.read_csv(join(input_dir, 'example_net-junctions.CSV'))\n",
    "in_pipes = pd.read_csv(join(input_dir, 'example_net-pipes.CSV'))\n",
    "\n",
    "in_junctions\n",
    "in_pipes"
   ]
  },
  {
   "cell_type": "code",
   "execution_count": null,
   "id": "f4b49a1a",
   "metadata": {},
   "outputs": [],
   "source": [
    "fluid = 'hgas' # 'lgas', 'hydrogen', 'water'\n",
    "\n",
    "net = pps.create_empty_network(fluid=fluid)\n",
    "\n",
    "geodata = in_junctions[['lon', 'lat']].values\n",
    "\n",
    "pps.create_junctions(net, nr_junctions=31, pn_bar=1, tfluid_k=283.15, height_m=in_junctions['height'], geodata=geodata)\n",
    "pps.create_pipes_from_parameters(net, in_pipes['from_junction'], in_pipes['to_junction'], length_km=in_pipes['length_km'],\n",
    "                                 diameter_m = 0.05, k_mm = 0.2)"
   ]
  },
  {
   "cell_type": "markdown",
   "id": "f318ac78",
   "metadata": {},
   "source": [
    "# Basic Plotting Functions"
   ]
  },
  {
   "cell_type": "markdown",
   "id": "5c48445c",
   "metadata": {},
   "source": [
    "Two ways to plot a pandapipes net:"
   ]
  },
  {
   "cell_type": "code",
   "execution_count": null,
   "id": "50358c91",
   "metadata": {},
   "outputs": [],
   "source": [
    "from pandapipes.plotting import simple_plot\n",
    "simple_plot(net)"
   ]
  },
  {
   "cell_type": "code",
   "execution_count": null,
   "id": "3a2e1467",
   "metadata": {},
   "outputs": [],
   "source": [
    "import seaborn as sb\n",
    "import pandapipes.plotting as plot\n",
    "import matplotlib.pyplot as plt\n",
    "\n",
    "colors = sb.color_palette('colorblind')\n",
    "\n",
    "jc = plot.create_junction_collection(net, color=colors[0])\n",
    "pc = plot.create_pipe_collection(net, color=colors[1])\n",
    "\n",
    "collections = [jc, pc]\n",
    "\n",
    "plot.draw_collections(collections)\n",
    "plt.show()\n"
   ]
  },
  {
   "cell_type": "code",
   "execution_count": null,
   "id": "c9d72d08",
   "metadata": {},
   "outputs": [],
   "source": [
    "import numpy as np\n",
    "from pandapower.plotting import create_annotation_collection\n",
    "\n",
    "coords = net.junction_geodata[['x','y']].values\n",
    "jic = create_annotation_collection(size=20, texts = np.char.mod('%.0f', net.junction.index), \n",
    "                                    coords=coords, zorder=150, color='k')\n",
    "collections += [jic]\n",
    "plot.draw_collections(collections)\n",
    "plt.show()"
   ]
  },
  {
   "cell_type": "markdown",
   "id": "63c905f6",
   "metadata": {},
   "source": [
    "# Gas Net"
   ]
  },
  {
   "cell_type": "markdown",
   "id": "366d4b4b",
   "metadata": {},
   "source": [
    "Adding **sinks**, **sources** and **ext_grids** to the basic net to perform a pipeflow:"
   ]
  },
  {
   "cell_type": "code",
   "execution_count": null,
   "id": "548c08ff",
   "metadata": {},
   "outputs": [],
   "source": [
    "in_sinks = pd.read_csv(join(input_dir, 'example_net-sinks.CSV'))\n",
    "in_sources = pd.read_csv(join(input_dir, 'example_net-sources.CSV'))"
   ]
  },
  {
   "cell_type": "code",
   "execution_count": null,
   "id": "cd8ea8da",
   "metadata": {},
   "outputs": [],
   "source": [
    "in_sinks\n",
    "in_sources"
   ]
  },
  {
   "cell_type": "code",
   "execution_count": null,
   "id": "ad870536",
   "metadata": {},
   "outputs": [],
   "source": [
    "pps.create_sinks(net, in_sinks['junction'], in_sinks['m_dot'])\n",
    "pps.create_sources(net, in_sources['junction'], in_sources['m_dot'])"
   ]
  },
  {
   "cell_type": "code",
   "execution_count": null,
   "id": "bb319483",
   "metadata": {},
   "outputs": [],
   "source": [
    "pps.create_ext_grid(net, junction=0, p_bar=3, t_k=313.15)\n",
    "pps.create_ext_grid(net, junction=14, p_bar=16, t_k=283.15)"
   ]
  },
  {
   "cell_type": "code",
   "execution_count": null,
   "id": "5164e683",
   "metadata": {},
   "outputs": [],
   "source": [
    "pps.pipeflow(net)"
   ]
  },
  {
   "cell_type": "code",
   "execution_count": null,
   "id": "d331b6ab",
   "metadata": {},
   "outputs": [],
   "source": [
    "net.res_junction.p_bar"
   ]
  },
  {
   "cell_type": "code",
   "execution_count": null,
   "id": "3882aa01",
   "metadata": {},
   "outputs": [],
   "source": [
    "net.res_pipe.v_mean_m_per_s"
   ]
  },
  {
   "cell_type": "code",
   "execution_count": null,
   "id": "6a3ed397",
   "metadata": {},
   "outputs": [],
   "source": [
    "net.res_junction.t_k"
   ]
  },
  {
   "cell_type": "markdown",
   "id": "0b10d322",
   "metadata": {},
   "source": [
    "# Plot Gas Net"
   ]
  },
  {
   "cell_type": "markdown",
   "id": "9641cacf",
   "metadata": {},
   "source": [
    "Plotting the new components:"
   ]
  },
  {
   "cell_type": "code",
   "execution_count": null,
   "id": "46fd37b7",
   "metadata": {},
   "outputs": [],
   "source": [
    "sc = plot.create_sink_collection(net, color=colors[2], size=20)\n",
    "soc = plot.create_source_collection(net, color=colors[3], size=20)\n",
    "ec = plot.create_ext_grid_collection(net, color=colors[4], size=20)\n",
    "\n",
    "collections += [sc, soc, ec]\n",
    "\n",
    "plot.draw_collections(collections)\n",
    "plt.show()"
   ]
  },
  {
   "cell_type": "markdown",
   "id": "28ac0149",
   "metadata": {},
   "source": [
    "# Further Components"
   ]
  },
  {
   "cell_type": "markdown",
   "id": "0ab0e1f0",
   "metadata": {},
   "source": [
    "To complete the pandapipes component list for gas nets, we also add **valves**, a **pressure_controller** and a **pump**:"
   ]
  },
  {
   "cell_type": "code",
   "execution_count": null,
   "id": "8bbdc34c",
   "metadata": {},
   "outputs": [],
   "source": [
    "pps.create_valves(net, [4, 9, 22], [16, 18, 28], 0.05, opened=False)\n",
    "pps.create_pressure_control(net, 5, 9, 9, 2.7)\n",
    "pps.create_pump(net, 9, 6, std_type='P1')"
   ]
  },
  {
   "cell_type": "code",
   "execution_count": null,
   "id": "cf3454ed",
   "metadata": {},
   "outputs": [],
   "source": [
    "pps.pipeflow(net)"
   ]
  },
  {
   "cell_type": "code",
   "execution_count": null,
   "id": "d4cd40fe",
   "metadata": {},
   "outputs": [],
   "source": [
    "net._internal_results"
   ]
  },
  {
   "cell_type": "code",
   "execution_count": null,
   "id": "49f5e7bf",
   "metadata": {},
   "outputs": [],
   "source": [
    "pps.pipeflow(net, iter=20)"
   ]
  },
  {
   "cell_type": "code",
   "execution_count": null,
   "id": "2f88d055",
   "metadata": {},
   "outputs": [],
   "source": [
    "net._internal_results"
   ]
  },
  {
   "cell_type": "code",
   "execution_count": null,
   "id": "15653628",
   "metadata": {},
   "outputs": [],
   "source": [
    "net.res_junction.p_bar"
   ]
  },
  {
   "cell_type": "code",
   "execution_count": null,
   "id": "d1e691b6",
   "metadata": {},
   "outputs": [],
   "source": [
    "net.res_valve.v_mean_m_per_s"
   ]
  },
  {
   "cell_type": "code",
   "execution_count": null,
   "id": "40da324c",
   "metadata": {},
   "outputs": [],
   "source": [
    "net.res_pipe.v_mean_m_per_s"
   ]
  },
  {
   "cell_type": "code",
   "execution_count": null,
   "id": "6e72e7f4",
   "metadata": {},
   "outputs": [],
   "source": [
    "pps.create_fluid_from_lib(net, 'hydrogen')"
   ]
  },
  {
   "cell_type": "code",
   "execution_count": null,
   "id": "0e3db70b",
   "metadata": {},
   "outputs": [],
   "source": [
    "pps.pipeflow(net, iter=20)"
   ]
  },
  {
   "cell_type": "code",
   "execution_count": null,
   "id": "8781c60f",
   "metadata": {},
   "outputs": [],
   "source": [
    "net.res_pipe.v_mean_m_per_s"
   ]
  },
  {
   "cell_type": "code",
   "execution_count": null,
   "id": "ee51df12",
   "metadata": {},
   "outputs": [],
   "source": [
    "pps.create_fluid_from_lib(net, 'hgas')"
   ]
  },
  {
   "cell_type": "code",
   "execution_count": null,
   "id": "a3ed9cdb",
   "metadata": {},
   "outputs": [],
   "source": [
    "data = net.std_types['pump']['P1'].get_pressure(np.linspace(0, 0.05, 20))"
   ]
  },
  {
   "cell_type": "code",
   "execution_count": null,
   "id": "85f78bb2",
   "metadata": {},
   "outputs": [],
   "source": [
    "plt.plot(np.linspace(0, 0.05, 20), data)"
   ]
  },
  {
   "cell_type": "markdown",
   "id": "661fbb4d",
   "metadata": {},
   "source": [
    "# Plotting Further Components"
   ]
  },
  {
   "cell_type": "markdown",
   "id": "1a8df1ea",
   "metadata": {},
   "source": [
    "Plotting the final gas net:"
   ]
  },
  {
   "cell_type": "code",
   "execution_count": null,
   "id": "3fbddf2e",
   "metadata": {},
   "outputs": [],
   "source": [
    "pcc = plot.create_pressure_control_collection(net, size=20, color='grey')\n",
    "vc = plot.create_valve_collection(net, size=5, color='grey')\n",
    "pc = plot.create_pump_collection(net, size=20, color='grey')\n",
    "\n",
    "collections += [pcc, vc, pc]\n",
    "\n",
    "plot.draw_collections(collections)\n",
    "plt.show()"
   ]
  },
  {
   "cell_type": "code",
   "execution_count": null,
   "id": "70f7b9a3",
   "metadata": {},
   "outputs": [],
   "source": [
    "pps.to_json(net, 'net.json')"
   ]
  }
 ],
 "metadata": {
  "kernelspec": {
   "display_name": "Python 3 (ipykernel)",
   "language": "python",
   "name": "python3"
  },
  "language_info": {
   "codemirror_mode": {
    "name": "ipython",
    "version": 3
   },
   "file_extension": ".py",
   "mimetype": "text/x-python",
   "name": "python",
   "nbconvert_exporter": "python",
   "pygments_lexer": "ipython3",
   "version": "3.11.0"
  }
 },
 "nbformat": 4,
 "nbformat_minor": 5
}
