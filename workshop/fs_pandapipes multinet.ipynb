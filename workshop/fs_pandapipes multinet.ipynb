{
 "cells": [
  {
   "cell_type": "markdown",
   "id": "59d6ca74",
   "metadata": {},
   "source": [
    "# Time Series Simulation Power Net"
   ]
  },
  {
   "cell_type": "markdown",
   "id": "12e321cb",
   "metadata": {},
   "source": [
    "We start with the time series simulation of a power net:"
   ]
  },
  {
   "cell_type": "code",
   "execution_count": null,
   "id": "6166b187",
   "metadata": {},
   "outputs": [],
   "source": [
    "import numpy as np\n",
    "import pandas as pd\n",
    "\n",
    "data_pv = pd.read_excel(r'net_data_power/time_series.xlsx', sheet_name='pv_solar', index_col = 'time')\n",
    "data_ho = pd.read_excel(r'net_data_power/time_series.xlsx', sheet_name='households', index_col = 'time')"
   ]
  },
  {
   "cell_type": "code",
   "execution_count": null,
   "id": "67653f0b",
   "metadata": {},
   "outputs": [],
   "source": []
  },
  {
   "cell_type": "code",
   "execution_count": null,
   "id": "42aac998",
   "metadata": {},
   "outputs": [],
   "source": []
  },
  {
   "cell_type": "code",
   "execution_count": null,
   "id": "e044c909",
   "metadata": {},
   "outputs": [],
   "source": []
  },
  {
   "cell_type": "code",
   "execution_count": null,
   "id": "12e68011",
   "metadata": {},
   "outputs": [],
   "source": [
    "import pandapower as pp\n"
   ]
  },
  {
   "cell_type": "code",
   "execution_count": null,
   "id": "203d60c4",
   "metadata": {},
   "outputs": [],
   "source": []
  },
  {
   "cell_type": "code",
   "execution_count": null,
   "id": "c2adc7ca",
   "metadata": {},
   "outputs": [],
   "source": []
  },
  {
   "cell_type": "code",
   "execution_count": null,
   "id": "5d693a6a",
   "metadata": {},
   "outputs": [],
   "source": []
  },
  {
   "cell_type": "code",
   "execution_count": null,
   "id": "5b984c0f",
   "metadata": {},
   "outputs": [],
   "source": []
  },
  {
   "cell_type": "code",
   "execution_count": null,
   "id": "36b580cc",
   "metadata": {},
   "outputs": [],
   "source": []
  },
  {
   "cell_type": "code",
   "execution_count": null,
   "id": "4a13f403",
   "metadata": {},
   "outputs": [],
   "source": [
    "from pandapower.control import ConstControl\n",
    "from pandapower.timeseries import DFData\n"
   ]
  },
  {
   "cell_type": "code",
   "execution_count": null,
   "id": "3996ba2d",
   "metadata": {},
   "outputs": [],
   "source": []
  },
  {
   "cell_type": "code",
   "execution_count": null,
   "id": "cdff62df",
   "metadata": {},
   "outputs": [],
   "source": [
    "from pandapower.timeseries import OutputWriter\n"
   ]
  },
  {
   "cell_type": "code",
   "execution_count": null,
   "id": "a61e9528",
   "metadata": {},
   "outputs": [],
   "source": [
    "from pandapower.timeseries.run_time_series import run_timeseries\n"
   ]
  },
  {
   "cell_type": "markdown",
   "id": "8d74a19b",
   "metadata": {},
   "source": [
    "# Time Series Simulation Pipe Net"
   ]
  },
  {
   "cell_type": "code",
   "execution_count": null,
   "id": "04d1929b",
   "metadata": {},
   "outputs": [],
   "source": []
  },
  {
   "cell_type": "code",
   "execution_count": null,
   "id": "69fc8f51",
   "metadata": {},
   "outputs": [],
   "source": [
    "import pandapipes as pps\n"
   ]
  },
  {
   "cell_type": "code",
   "execution_count": null,
   "id": "087d9389",
   "metadata": {},
   "outputs": [],
   "source": []
  },
  {
   "cell_type": "code",
   "execution_count": null,
   "id": "99c389c3",
   "metadata": {},
   "outputs": [],
   "source": []
  },
  {
   "cell_type": "code",
   "execution_count": null,
   "id": "fcf2a69a",
   "metadata": {},
   "outputs": [],
   "source": []
  },
  {
   "cell_type": "code",
   "execution_count": null,
   "id": "cd6578be",
   "metadata": {},
   "outputs": [],
   "source": []
  },
  {
   "cell_type": "code",
   "execution_count": null,
   "id": "ead3ceae",
   "metadata": {},
   "outputs": [],
   "source": [
    "from pandapipes.timeseries.run_time_series import run_timeseries"
   ]
  },
  {
   "cell_type": "code",
   "execution_count": null,
   "id": "62b305fc",
   "metadata": {},
   "outputs": [],
   "source": []
  },
  {
   "cell_type": "markdown",
   "id": "4263edaa",
   "metadata": {},
   "source": [
    "# Time Series Simulation Multinet"
   ]
  },
  {
   "cell_type": "code",
   "execution_count": null,
   "id": "7dd878cd",
   "metadata": {},
   "outputs": [],
   "source": []
  },
  {
   "cell_type": "code",
   "execution_count": null,
   "id": "5bb4c187",
   "metadata": {},
   "outputs": [],
   "source": []
  },
  {
   "cell_type": "code",
   "execution_count": null,
   "id": "c8524bfe",
   "metadata": {},
   "outputs": [],
   "source": []
  },
  {
   "cell_type": "code",
   "execution_count": null,
   "id": "8be32aef",
   "metadata": {},
   "outputs": [],
   "source": [
    "from pandapipes.multinet.timeseries.run_time_series_multinet import run_timeseries\n"
   ]
  }
 ],
 "metadata": {
  "kernelspec": {
   "display_name": "Python 3 (ipykernel)",
   "language": "python",
   "name": "python3"
  },
  "language_info": {
   "codemirror_mode": {
    "name": "ipython",
    "version": 3
   },
   "file_extension": ".py",
   "mimetype": "text/x-python",
   "name": "python",
   "nbconvert_exporter": "python",
   "pygments_lexer": "ipython3",
   "version": "3.11.0"
  }
 },
 "nbformat": 4,
 "nbformat_minor": 5
}
